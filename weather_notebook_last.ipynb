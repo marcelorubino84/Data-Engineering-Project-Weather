{
 "cells": [
  {
   "cell_type": "markdown",
   "id": "10f759c2",
   "metadata": {},
   "source": [
    "# In this notebook, weather data will be collected from openweather API to be uploaded to MySQL"
   ]
  },
  {
   "cell_type": "code",
   "execution_count": 1,
   "id": "4b76ee05",
   "metadata": {},
   "outputs": [],
   "source": [
    "# Importing the necessary libraries\n",
    "\n",
    "import pandas as pd\n",
    "from bs4 import BeautifulSoup\n",
    "import requests\n",
    "import datetime as dt"
   ]
  },
  {
   "cell_type": "code",
   "execution_count": 2,
   "id": "78bba424",
   "metadata": {},
   "outputs": [],
   "source": [
    "# Assigning my API number to a variable an creating a list with the cities names\n",
    "\n",
    "api_num = 'My_API_num'\n",
    "cities_name = ['Madrid','Barcelona','Malaga','Berlin','Hamburg','London']"
   ]
  },
  {
   "cell_type": "code",
   "execution_count": 3,
   "id": "3e90a09e",
   "metadata": {},
   "outputs": [],
   "source": [
    "# This function will loop through the url API to gather some imformation regarding the climatological data from the \n",
    "# chosen cities. This data will be stored in a dictionary and then appended to a list.\n",
    "\n",
    "def city_data(api_num, cities):\n",
    "  weather_info = []\n",
    "    \n",
    "  for city in cities:\n",
    "     url = f'http://api.openweathermap.org/data/2.5/weather?q={city}&appid={api_num}&units=metric'\n",
    "     response = requests.get(url).json()\n",
    "    \n",
    "     weather_time = {}\n",
    "     weather_time['forecast_time'] = dt.datetime.utcfromtimestamp(response['dt'] + response['timezone'])\n",
    "     weather_time['temp'] = response['main']['temp']\n",
    "     weather_time['feels_like'] = response['main']['feels_like']\n",
    "     weather_time['wind_speed'] = response['wind']['speed']\n",
    "     weather_time['country_code'] = response['sys']['country']\n",
    "     weather_info.append(weather_time)\n",
    "    \n",
    "  weather_cities_df = pd.DataFrame(weather_info)\n",
    "  return weather_cities_df"
   ]
  },
  {
   "cell_type": "code",
   "execution_count": 4,
   "id": "d3425a4c",
   "metadata": {},
   "outputs": [],
   "source": [
    "weather = city_data(api_num,cities_name)"
   ]
  },
  {
   "cell_type": "code",
   "execution_count": 5,
   "id": "9f87294b",
   "metadata": {},
   "outputs": [],
   "source": [
    "value = [1,2,3,4,5,6]\n",
    "weather.insert(0,'city_id',value)"
   ]
  },
  {
   "cell_type": "code",
   "execution_count": 6,
   "id": "bb3f91d7",
   "metadata": {},
   "outputs": [
    {
     "data": {
      "text/html": [
       "<div>\n",
       "<style scoped>\n",
       "    .dataframe tbody tr th:only-of-type {\n",
       "        vertical-align: middle;\n",
       "    }\n",
       "\n",
       "    .dataframe tbody tr th {\n",
       "        vertical-align: top;\n",
       "    }\n",
       "\n",
       "    .dataframe thead th {\n",
       "        text-align: right;\n",
       "    }\n",
       "</style>\n",
       "<table border=\"1\" class=\"dataframe\">\n",
       "  <thead>\n",
       "    <tr style=\"text-align: right;\">\n",
       "      <th></th>\n",
       "      <th>city_id</th>\n",
       "      <th>forecast_time</th>\n",
       "      <th>temp</th>\n",
       "      <th>feels_like</th>\n",
       "      <th>wind_speed</th>\n",
       "      <th>country_code</th>\n",
       "    </tr>\n",
       "  </thead>\n",
       "  <tbody>\n",
       "    <tr>\n",
       "      <th>0</th>\n",
       "      <td>1</td>\n",
       "      <td>2022-10-16 16:38:23</td>\n",
       "      <td>24.40</td>\n",
       "      <td>23.89</td>\n",
       "      <td>3.60</td>\n",
       "      <td>ES</td>\n",
       "    </tr>\n",
       "    <tr>\n",
       "      <th>1</th>\n",
       "      <td>2</td>\n",
       "      <td>2022-10-16 16:33:08</td>\n",
       "      <td>24.80</td>\n",
       "      <td>25.37</td>\n",
       "      <td>4.12</td>\n",
       "      <td>ES</td>\n",
       "    </tr>\n",
       "    <tr>\n",
       "      <th>2</th>\n",
       "      <td>3</td>\n",
       "      <td>2022-10-16 16:41:04</td>\n",
       "      <td>27.71</td>\n",
       "      <td>27.30</td>\n",
       "      <td>2.68</td>\n",
       "      <td>ES</td>\n",
       "    </tr>\n",
       "    <tr>\n",
       "      <th>3</th>\n",
       "      <td>4</td>\n",
       "      <td>2022-10-16 16:34:26</td>\n",
       "      <td>19.85</td>\n",
       "      <td>19.51</td>\n",
       "      <td>4.92</td>\n",
       "      <td>DE</td>\n",
       "    </tr>\n",
       "    <tr>\n",
       "      <th>4</th>\n",
       "      <td>5</td>\n",
       "      <td>2022-10-16 16:36:14</td>\n",
       "      <td>17.48</td>\n",
       "      <td>16.90</td>\n",
       "      <td>7.20</td>\n",
       "      <td>DE</td>\n",
       "    </tr>\n",
       "    <tr>\n",
       "      <th>5</th>\n",
       "      <td>6</td>\n",
       "      <td>2022-10-16 15:35:16</td>\n",
       "      <td>16.36</td>\n",
       "      <td>15.88</td>\n",
       "      <td>3.58</td>\n",
       "      <td>GB</td>\n",
       "    </tr>\n",
       "  </tbody>\n",
       "</table>\n",
       "</div>"
      ],
      "text/plain": [
       "   city_id       forecast_time   temp  feels_like  wind_speed country_code\n",
       "0        1 2022-10-16 16:38:23  24.40       23.89        3.60           ES\n",
       "1        2 2022-10-16 16:33:08  24.80       25.37        4.12           ES\n",
       "2        3 2022-10-16 16:41:04  27.71       27.30        2.68           ES\n",
       "3        4 2022-10-16 16:34:26  19.85       19.51        4.92           DE\n",
       "4        5 2022-10-16 16:36:14  17.48       16.90        7.20           DE\n",
       "5        6 2022-10-16 15:35:16  16.36       15.88        3.58           GB"
      ]
     },
     "execution_count": 6,
     "metadata": {},
     "output_type": "execute_result"
    }
   ],
   "source": [
    "weather"
   ]
  },
  {
   "cell_type": "code",
   "execution_count": 7,
   "id": "922915ef",
   "metadata": {},
   "outputs": [
    {
     "name": "stdout",
     "output_type": "stream",
     "text": [
      "<class 'pandas.core.frame.DataFrame'>\n",
      "RangeIndex: 6 entries, 0 to 5\n",
      "Data columns (total 6 columns):\n",
      " #   Column         Non-Null Count  Dtype         \n",
      "---  ------         --------------  -----         \n",
      " 0   city_id        6 non-null      int64         \n",
      " 1   forecast_time  6 non-null      datetime64[ns]\n",
      " 2   temp           6 non-null      float64       \n",
      " 3   feels_like     6 non-null      float64       \n",
      " 4   wind_speed     6 non-null      float64       \n",
      " 5   country_code   6 non-null      object        \n",
      "dtypes: datetime64[ns](1), float64(3), int64(1), object(1)\n",
      "memory usage: 416.0+ bytes\n"
     ]
    }
   ],
   "source": [
    "weather.info()"
   ]
  },
  {
   "cell_type": "code",
   "execution_count": 22,
   "id": "e3372c30",
   "metadata": {},
   "outputs": [],
   "source": [
    "import sqlalchemy\n",
    "import pymysql"
   ]
  },
  {
   "cell_type": "code",
   "execution_count": 23,
   "id": "18e71e44",
   "metadata": {},
   "outputs": [],
   "source": [
    "schema=\"GansWeatherDB\"\n",
    "host=\"127.0.0.1\"\n",
    "user=\"root\"\n",
    "password=\"SALCEDO3289\"\n",
    "port=3306\n",
    "con = f'mysql+pymysql://{user}:{password}@{host}:{port}/{schema}'"
   ]
  },
  {
   "cell_type": "code",
   "execution_count": 24,
   "id": "9cb8f5fc",
   "metadata": {},
   "outputs": [],
   "source": [
    "weather.dropna().to_sql('weather', if_exists='append', con=con, index=False)"
   ]
  },
  {
   "cell_type": "code",
   "execution_count": 12,
   "id": "3efa2a73",
   "metadata": {},
   "outputs": [],
   "source": [
    "weather.to_csv('weather.csv')"
   ]
  },
  {
   "cell_type": "code",
   "execution_count": 13,
   "id": "956a653a",
   "metadata": {},
   "outputs": [],
   "source": [
    "weather = pd.read_csv('weather.csv', index_col=[0])"
   ]
  },
  {
   "cell_type": "code",
   "execution_count": 15,
   "id": "ba4e5cb3",
   "metadata": {},
   "outputs": [
    {
     "name": "stdout",
     "output_type": "stream",
     "text": [
      "<class 'pandas.core.frame.DataFrame'>\n",
      "Int64Index: 6 entries, 0 to 5\n",
      "Data columns (total 6 columns):\n",
      " #   Column         Non-Null Count  Dtype  \n",
      "---  ------         --------------  -----  \n",
      " 0   city_id        6 non-null      int64  \n",
      " 1   forecast_time  6 non-null      object \n",
      " 2   temp           6 non-null      float64\n",
      " 3   feels_like     6 non-null      float64\n",
      " 4   wind_speed     6 non-null      float64\n",
      " 5   country_code   6 non-null      object \n",
      "dtypes: float64(3), int64(1), object(2)\n",
      "memory usage: 336.0+ bytes\n"
     ]
    }
   ],
   "source": [
    "weather.info()"
   ]
  }
 ],
 "metadata": {
  "kernelspec": {
   "display_name": "Python 3 (ipykernel)",
   "language": "python",
   "name": "python3"
  },
  "language_info": {
   "codemirror_mode": {
    "name": "ipython",
    "version": 3
   },
   "file_extension": ".py",
   "mimetype": "text/x-python",
   "name": "python",
   "nbconvert_exporter": "python",
   "pygments_lexer": "ipython3",
   "version": "3.9.7"
  }
 },
 "nbformat": 4,
 "nbformat_minor": 5
}
