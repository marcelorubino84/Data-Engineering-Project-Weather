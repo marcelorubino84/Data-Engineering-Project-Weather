{
 "cells": [
  {
   "cell_type": "markdown",
   "id": "a6c8d714",
   "metadata": {},
   "source": [
    "## In this notebook, a dataframe will be created to store API info from some airports and its codes, then upload the gathered data to MySQL, where a database has been created beforehand."
   ]
  },
  {
   "cell_type": "code",
   "execution_count": 1,
   "id": "26036714",
   "metadata": {},
   "outputs": [],
   "source": [
    "#Importing the necessary libraries\n",
    "\n",
    "import requests\n",
    "import pandas as pd"
   ]
  },
  {
   "cell_type": "code",
   "execution_count": 2,
   "id": "7dfa99ac",
   "metadata": {},
   "outputs": [],
   "source": [
    "# The lat and lon from the chosen airports is displayed below in comments, so they can be later stored in a list\n",
    "\n",
    "# madrid_lat = '40.4983'\n",
    "# madrid_lon = '3.5676'\n",
    "# barcelona_lat = '41.3833'\n",
    "# barcelon_lon = '2.183333'\n",
    "# malaga_lat = '36.7194'\n",
    "# malaga_lon = '-4.420000'\n",
    "# berlin_lat = '52.5200'\n",
    "# berlin_lon = '13.405000'\n",
    "# hamburg_lat = '53.5500'\n",
    "# hamburg_lon = '10.000000'\n",
    "# london_lat = '51.5072'\n",
    "# london_lon = '0.127500'\n",
    "\n",
    "lat_airport = ['40.4983','41.2974','36.7194','52.5200','53.5500','51.5072']\n",
    "lon_airport = ['-3.5676','2.08329','-4.420000','13.405000','10.000000','0.127500']\n",
    "\n",
    "# Here a function has been created that takes lat and lon as arguments, then inside the function, a for loop is also\n",
    "# created to go through the API and collection the required info. Once the info is collected, it will be appended to \n",
    "# the empty list.\n",
    "\n",
    "def lat_lon_airports(lat,lon):\n",
    "    \n",
    "    lat_lon_cities_air = []\n",
    "    for i in range(len(lat)):\n",
    "      url = f\"https://aerodatabox.p.rapidapi.com/airports/search/location/{lat[i]}/{lon[i]}/km/10/16\"\n",
    "\n",
    "      querystring = {\"withFlightInfoOnly\":\"true\"}\n",
    "\n",
    "      headers = {\n",
    "        \"X-RapidAPI-Key\": \"My_API_key\",\n",
    "        \"X-RapidAPI-Host\": \"aerodatabox.p.rapidapi.com\"\n",
    "      }\n",
    "\n",
    "      response = requests.request(\"GET\", url, headers=headers, params=querystring)\n",
    "\n",
    "      lat_lon_cities_air.append(pd.json_normalize(response.json()['items']))\n",
    "\n",
    "    return pd.concat(lat_lon_cities_air, ignore_index=True)"
   ]
  },
  {
   "cell_type": "code",
   "execution_count": 3,
   "id": "f150a5fd",
   "metadata": {
    "scrolled": true
   },
   "outputs": [],
   "source": [
    "# The function and its parameters are stored in a variable\n",
    "airports = lat_lon_airports(lat_airport,lon_airport)"
   ]
  },
  {
   "cell_type": "code",
   "execution_count": 4,
   "id": "d976bc3d",
   "metadata": {},
   "outputs": [],
   "source": [
    "# Dropping the columns that are not necessary\n",
    "airports.drop(['iata', 'name', 'shortName','countryCode','location.lat','location.lon'], axis=1, inplace=True)"
   ]
  },
  {
   "cell_type": "code",
   "execution_count": 5,
   "id": "50ba2362",
   "metadata": {},
   "outputs": [],
   "source": [
    "# Creating two columns for the ICAO code and city names.\n",
    "airports.columns = ['icao','city_name']"
   ]
  },
  {
   "cell_type": "code",
   "execution_count": 6,
   "id": "bdf54424",
   "metadata": {},
   "outputs": [],
   "source": [
    "# Inserting a new column called city ID to give each city a distinct number\n",
    "airports.insert(0, \"city_id\", [1, 2, 3, 4, 5, 6], True)"
   ]
  },
  {
   "cell_type": "code",
   "execution_count": 7,
   "id": "313bbb4f",
   "metadata": {},
   "outputs": [
    {
     "data": {
      "text/html": [
       "<div>\n",
       "<style scoped>\n",
       "    .dataframe tbody tr th:only-of-type {\n",
       "        vertical-align: middle;\n",
       "    }\n",
       "\n",
       "    .dataframe tbody tr th {\n",
       "        vertical-align: top;\n",
       "    }\n",
       "\n",
       "    .dataframe thead th {\n",
       "        text-align: right;\n",
       "    }\n",
       "</style>\n",
       "<table border=\"1\" class=\"dataframe\">\n",
       "  <thead>\n",
       "    <tr style=\"text-align: right;\">\n",
       "      <th></th>\n",
       "      <th>city_id</th>\n",
       "      <th>icao</th>\n",
       "      <th>city_name</th>\n",
       "    </tr>\n",
       "  </thead>\n",
       "  <tbody>\n",
       "    <tr>\n",
       "      <th>0</th>\n",
       "      <td>1</td>\n",
       "      <td>LEMD</td>\n",
       "      <td>Madrid</td>\n",
       "    </tr>\n",
       "    <tr>\n",
       "      <th>1</th>\n",
       "      <td>2</td>\n",
       "      <td>LEBL</td>\n",
       "      <td>Barcelona</td>\n",
       "    </tr>\n",
       "    <tr>\n",
       "      <th>2</th>\n",
       "      <td>3</td>\n",
       "      <td>LEMG</td>\n",
       "      <td>Málaga</td>\n",
       "    </tr>\n",
       "    <tr>\n",
       "      <th>3</th>\n",
       "      <td>4</td>\n",
       "      <td>EDDT</td>\n",
       "      <td>Berlin</td>\n",
       "    </tr>\n",
       "    <tr>\n",
       "      <th>4</th>\n",
       "      <td>5</td>\n",
       "      <td>EDDH</td>\n",
       "      <td>Hamburg</td>\n",
       "    </tr>\n",
       "    <tr>\n",
       "      <th>5</th>\n",
       "      <td>6</td>\n",
       "      <td>EGLC</td>\n",
       "      <td>London</td>\n",
       "    </tr>\n",
       "  </tbody>\n",
       "</table>\n",
       "</div>"
      ],
      "text/plain": [
       "   city_id  icao  city_name\n",
       "0        1  LEMD     Madrid\n",
       "1        2  LEBL  Barcelona\n",
       "2        3  LEMG     Málaga\n",
       "3        4  EDDT     Berlin\n",
       "4        5  EDDH    Hamburg\n",
       "5        6  EGLC     London"
      ]
     },
     "execution_count": 7,
     "metadata": {},
     "output_type": "execute_result"
    }
   ],
   "source": [
    "airports"
   ]
  },
  {
   "cell_type": "code",
   "execution_count": 8,
   "id": "45de429f",
   "metadata": {},
   "outputs": [
    {
     "name": "stdout",
     "output_type": "stream",
     "text": [
      "<class 'pandas.core.frame.DataFrame'>\n",
      "RangeIndex: 6 entries, 0 to 5\n",
      "Data columns (total 3 columns):\n",
      " #   Column     Non-Null Count  Dtype \n",
      "---  ------     --------------  ----- \n",
      " 0   city_id    6 non-null      int64 \n",
      " 1   icao       6 non-null      object\n",
      " 2   city_name  6 non-null      object\n",
      "dtypes: int64(1), object(2)\n",
      "memory usage: 272.0+ bytes\n"
     ]
    }
   ],
   "source": [
    "# Checking that the datatypes for the dataframe are correct\n",
    "airports.info()"
   ]
  },
  {
   "cell_type": "code",
   "execution_count": 49,
   "id": "c22bb225",
   "metadata": {},
   "outputs": [],
   "source": [
    "# Importing the libraries to upload the data to MySQL\n",
    "import sqlalchemy\n",
    "import pymysql"
   ]
  },
  {
   "cell_type": "code",
   "execution_count": 50,
   "id": "74c31fdb",
   "metadata": {},
   "outputs": [],
   "source": [
    "schema=\"GansWeatherDB\"\n",
    "host=\"127.0.0.1\"\n",
    "user=\"My_user\"\n",
    "password=\"My_pass\"\n",
    "port=3306\n",
    "con = f'mysql+pymysql://{user}:{password}@{host}:{port}/{schema}'"
   ]
  },
  {
   "cell_type": "code",
   "execution_count": 51,
   "id": "ffae69cf",
   "metadata": {},
   "outputs": [],
   "source": [
    "airports.dropna().to_sql('airports', if_exists='append', con=con, index=False)"
   ]
  },
  {
   "cell_type": "code",
   "execution_count": 42,
   "id": "1e2eb619",
   "metadata": {},
   "outputs": [],
   "source": [
    "airports.to_csv('airports.csv')"
   ]
  }
 ],
 "metadata": {
  "kernelspec": {
   "display_name": "Python 3 (ipykernel)",
   "language": "python",
   "name": "python3"
  },
  "language_info": {
   "codemirror_mode": {
    "name": "ipython",
    "version": 3
   },
   "file_extension": ".py",
   "mimetype": "text/x-python",
   "name": "python",
   "nbconvert_exporter": "python",
   "pygments_lexer": "ipython3",
   "version": "3.9.7"
  }
 },
 "nbformat": 4,
 "nbformat_minor": 5
}
